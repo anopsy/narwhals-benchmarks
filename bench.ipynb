{
 "cells": [
  {
   "cell_type": "code",
   "execution_count": 1,
   "metadata": {},
   "outputs": [
    {
     "data": {
      "text/plain": [
       "pyarrow.Table\n",
       "job_name: string\n",
       "hours: string\n",
       "remote: string\n",
       "company_name: string\n",
       "education: string\n",
       "seniority: string\n",
       "language: string\n",
       "city: string\n",
       "country: string\n",
       "job_published_at: date32[day]\n",
       "sample_date: int64\n",
       "comp_dol: int64\n",
       "all_tags: string\n",
       "----\n",
       "job_name: [[\"estágio em integração de software\",\"manager - engineering\",\"fullstack principal engineer\",\"structural engineer ii (hybrid)\",\"consultor de relacionamento e negócios pj - novo hamburgo/rs\",...,\"program manager\",\"senior piping engineer\",\"software engineer - ii\",\"product manager for life science—government\",\"mechanical design engineer\"],[\"software engineer\",\"junior test automation engineer (115038)\",\"senior software engineer - cryptography\",\"limited energy (06) field engineer\",\"cluster security manager, hyd, dc security apjc\",...,\"(senior) software engineer (golang) - cloud\",\"3928 project controls engineer - r2062526\",\"research associate (electrical/electronics engineering)\",\"cloud product development manager\",\"qa engineer (manufacturing)\"],...,[\"product manager\",\"full stack developer - (remote) - contract (12 months)\",\"it security analyst\",\"eda engineer\",\"associate field service engineer (apply for future openings in west coast)\",...,\"data engineer\",\"senior full stack developer\",\"process and control automation engineer\",\"frontend senior engineer- bengaluru, india\",\"electronics engineer\"],[\"devops engineer\",\"electrical design engineer intern\",\"assistente de negócios pf - três cachoeiras - sicredi caminho das águas/rs\",\"software developer (open source) (remote)\",\"product owner ticketing (venue)\",...,\"sales engineer ii\",\"full stack engineer\",\"retail front end supervisor\",\"server and cloud administrator\",\"research and development engineer 2, process development\"]]\n",
       "hours: [[\"Intern\",\"Full-Time\",\"Full-Time\",\"Full-Time\",\"Unclear\",...,\"Unclear\",\"Full-Time\",\"Full-Time\",\"Full-Time\",\"Full-Time\"],[\"Full-Time\",\"Unclear\",\"Full-Time\",\"Full-Time\",\"Full-Time\",...,\"Full-Time\",\"Contract\",\"Full-Time\",\"Full-Time\",\"Full-Time\"],...,[\"Unclear\",\"Full-Time\",\"Full-Time\",\"Full-Time\",\"Full-Time\",...,\"Full-Time\",\"Full-Time\",\"Full-Time\",\"Full-Time\",\"Full-Time\"],[\"Full-Time\",\"Full-Time\",\"Unclear\",\"Full-Time\",\"Full-Time\",...,\"Full-Time\",\"Full-Time\",\"Full-Time\",\"Full-Time\",\"Full-Time\"]]\n",
       "remote: [[\"false\",\"Unclear\",\"Unclear\",\"Unclear\",\"Unclear\",...,\"Unclear\",\"Unclear\",\"Unclear\",\"Unclear\",\"Unclear\"],[\"Unclear\",\"Unclear\",\"true\",\"Unclear\",\"Unclear\",...,\"Unclear\",\"Unclear\",\"Unclear\",\"false\",\"Unclear\"],...,[\"Unclear\",\"true\",\"false\",\"Unclear\",\"Unclear\",...,\"Unclear\",\"Unclear\",\"Unclear\",\"Unclear\",\"Unclear\"],[\"Unclear\",\"Unclear\",\"false\",\"true\",\"Unclear\",...,\"true\",\"Unclear\",\"Unclear\",\"Unclear\",\"Unclear\"]]\n",
       "company_name: [[\"Nosso trabalho transforma o mundo, o futuro e as pessoas.\",\"Schneider Electric\",\"FundGuard\",\"\",\"Queremos Fazer A Diferença Na Vida Das Pessoas\",...,\"LinkedIn\",\"\",\"Vibrint\",\"Vistex\",\"Able Design And Manufacturing\"],[\"EITR Technologies\",\"GFT\",\"MultiversX\",\"Compunet\",\"ADSIPL - Telangana - F02\",...,\"ZEDEDA\",\"Metroworth Consulting\",\"Nanyang Technological University\",\"Experian\",\"Novo Recruitment Solutions\"],...,[\"Inhabit Iq\",\"Comprehensive Staffing Solutions of Georgia\",\"City of New York\",\"Allegro MicroSystems Argentina\",\"Elekta\",...,\"Distribusion Technologies\",\"00100 LEIDOS\",\"Hire Military Talent\",\"Guidewire Software\",\"\"],[\"Genesis\",\"6501 Sensata Technologies Bulgaria EOOD\",\"Somos o Sicredi, a primeira Instituição Financeira Cooperativa do Brasil\",\"Xora\",\"TicketPAY Europe\",...,\"Feedonomics\",\"Pivotal Solutions\",\"Burlington Stores\",\"Uponor\",\"Cook Group\"]]\n",
       "education: [[\"Unclear\",\"Bachelors\",\"Unclear\",\"Unclear\",\"Unclear\",...,\"Unclear\",\"Unclear\",\"Bachelors\",\"Unclear\",\"Unclear\"],[\"Unclear\",\"Unclear\",\"Bachelors\",\"Bachelors\",\"Unclear\",...,\"Unclear\",\"Unclear\",\"Unclear\",\"Unclear\",\"Unclear\"],...,[\"Bachelors\",\"Bachelors\",\"High School\",\"Unclear\",\"Associates\",...,\"Unclear\",\"Bachelors\",\"Bachelors\",\"Unclear\",\"Unclear\"],[\"Unclear\",\"Bachelors\",\"Unclear\",\"Bachelors\",\"Unclear\",...,\"Bachelors\",\"Unclear\",\"Unclear\",\"Unclear\",\"Bachelors\"]]\n",
       "seniority: [[\"Unclear Seniority\",\"Manager\",\"Staff IC\",\"Unclear Seniority\",\"Unclear Seniority\",...,\"Manager\",\"Senior IC\",\"Unclear Seniority\",\"IC\",\"Junior IC\"],[\"Unclear Seniority\",\"Junior IC\",\"Senior IC\",\"Unclear Seniority\",\"Manager\",...,\"Unclear Seniority\",\"Unclear Seniority\",\"IC\",\"Manager\",\"Unclear Seniority\"],...,[\"IC\",\"Unclear Seniority\",\"IC\",\"Unclear Seniority\",\"IC\",...,\"Unclear Seniority\",\"Senior IC\",\"Senior IC\",\"Senior IC\",\"Unclear Seniority\"],[\"Unclear Seniority\",\"Intern\",\"Unclear Seniority\",\"Unclear Seniority\",\"Unclear Seniority\",...,\"Senior IC\",\"Unclear Seniority\",\"Manager\",\"Unclear Seniority\",\"Unclear Seniority\"]]\n",
       "language: [[\"en\",\"en\",\"en\",\"en\",\"en\",...,\"en\",\"en\",\"en\",\"en\",\"en\"],[\"en\",\"en\",\"en\",\"en\",\"Un\",...,\"en\",\"en\",\"en\",\"en\",\"en\"],...,[\"en\",\"en\",\"en\",\"en\",\"en\",...,\"en\",\"en\",\"en\",\"en\",\"en\"],[\"uk\",\"en\",\"en\",\"en\",\"de\",...,\"en\",\"en\",\"en\",\"en\",\"en\"]]\n",
       "city: [[\"Manaus\",\"Bangalore\",\"Tel Aviv-Yafo\",\"\",\"Novo Hamburgo\",...,\"Hyderabad\",\"Khobar\",\"Annapolis Junction\",\"Hoffman Estates\",\"Bangalore\"],[\"Annapolis Junction\",\"Zaragoza\",\"Europe\",\"Kennewick\",\"Hyderabad\",...,\"Berlin\",\"Surrey-Leatherhead\",\"Singapore\",\"\",\"Singapore\"],...,[\"Plano\",\"\",\"New York City\",\"Buenos Aires\",\"Sunnyvale\",...,\"Berlin\",\"\",\"Charlotte\",\"India - Bangalore\",\"Wolverhampton\"],[\"\",\"Sofia\",\"Três Cachoeiras\",\"State College\",\"Hamm\",...,\"Los Angeles\",\"Detroit\",\"Jacksonville\",\"Helsinki\",\"Bloomington\"]]\n",
       "country: [[\"Brazil\",\"India\",\"Israel\",\"United States\",\"Brazil\",...,\"India\",\"Saudi Arabia\",\"United States\",\"United States\",\"India\"],[\"United States\",\"Spain\",\"\",\"United States\",\"India\",...,\"Germany\",\"United Kingdom\",\"Singapore\",\"Australia\",\"Singapore\"],...,[\"United States\",\"\",\"United States\",\"Argentina\",\"United States\",...,\"Germany\",\"United States\",\"United States\",\"India\",\"United Kingdom\"],[\"Ukraine\",\"Bulgaria\",\"Brazil\",\"United States\",\"Germany\",...,\"United States\",\"United States\",\"United States\",\"Finland\",\"United States\"]]\n",
       "job_published_at: [[2023-03-08,2023-02-28,2023-06-05,2023-05-18,2024-03-12,...,2023-12-07,2024-01-25,2024-01-09,2023-05-12,2022-09-01],[2023-06-07,2024-02-26,2022-08-29,2023-04-25,2023-12-01,...,2023-05-12,2023-02-13,2023-05-11,2023-05-18,2024-02-23],...,[2023-05-04,2024-01-24,2024-01-31,2023-03-26,2023-04-03,...,2023-04-12,2024-03-18,2024-03-25,2024-01-08,2023-05-23],[2023-03-15,2023-05-04,2023-05-31,2024-03-09,2023-11-10,...,2023-05-05,2024-03-27,2021-06-06,2023-05-26,2023-05-24]]\n",
       "..."
      ]
     },
     "execution_count": 1,
     "metadata": {},
     "output_type": "execute_result"
    }
   ],
   "source": [
    "import narwhals as nw\n",
    "from pyarrow import csv\n",
    "from tests.utils import compare_dicts\n",
    "table = csv.read_csv(\"/workspaces/narwhals/analysis_df.csv\")\n",
    "table"
   ]
  },
  {
   "cell_type": "code",
   "execution_count": 2,
   "metadata": {},
   "outputs": [
    {
     "data": {
      "text/plain": [
       "(83472, 13)"
      ]
     },
     "execution_count": 2,
     "metadata": {},
     "output_type": "execute_result"
    }
   ],
   "source": [
    "table.shape"
   ]
  },
  {
   "cell_type": "code",
   "execution_count": 3,
   "metadata": {},
   "outputs": [],
   "source": [
    "@nw.narwhalify\n",
    "def encode_one_v1(df, col):\n",
    "    oh = df[col].to_dummies()\n",
    "    return oh\n",
    "\n",
    "@nw.narwhalify\n",
    "def encode_one_v2(df, col):\n",
    "    oh = df[col].to_dummies_v2()\n",
    "    return oh\n",
    "\n",
    "@nw.narwhalify\n",
    "def encode_more_v1(df, cols):\n",
    "    for col in cols:\n",
    "        oh = df[col].to_dummies()\n",
    "        df = nw.concat([df, oh], how=\"horizontal\")\n",
    "    return df\n",
    "\n",
    "@nw.narwhalify\n",
    "def encode_more_v2(df, cols):\n",
    "        for col in cols:\n",
    "            oh = df[col].to_dummies_v2()\n",
    "            df = nw.concat([df, oh], how=\"horizontal\")\n",
    "        return df\n",
    "\n"
   ]
  },
  {
   "cell_type": "code",
   "execution_count": 4,
   "metadata": {},
   "outputs": [
    {
     "data": {
      "text/plain": [
       "15"
      ]
     },
     "execution_count": 4,
     "metadata": {},
     "output_type": "execute_result"
    }
   ],
   "source": [
    "len(table[\"hours\"].value_counts())"
   ]
  },
  {
   "cell_type": "code",
   "execution_count": 5,
   "metadata": {},
   "outputs": [
    {
     "data": {
      "text/plain": [
       "40"
      ]
     },
     "execution_count": 5,
     "metadata": {},
     "output_type": "execute_result"
    }
   ],
   "source": [
    "len(table[\"language\"].value_counts())"
   ]
  },
  {
   "cell_type": "code",
   "execution_count": 6,
   "metadata": {},
   "outputs": [
    {
     "data": {
      "text/plain": [
       "174"
      ]
     },
     "execution_count": 6,
     "metadata": {},
     "output_type": "execute_result"
    }
   ],
   "source": [
    "len(table[\"country\"].value_counts())"
   ]
  },
  {
   "cell_type": "code",
   "execution_count": 7,
   "metadata": {},
   "outputs": [
    {
     "data": {
      "text/plain": [
       "56052"
      ]
     },
     "execution_count": 7,
     "metadata": {},
     "output_type": "execute_result"
    }
   ],
   "source": [
    "len(table[\"job_name\"].value_counts())"
   ]
  },
  {
   "cell_type": "code",
   "execution_count": 8,
   "metadata": {},
   "outputs": [
    {
     "data": {
      "text/plain": [
       "7299"
      ]
     },
     "execution_count": 8,
     "metadata": {},
     "output_type": "execute_result"
    }
   ],
   "source": [
    "len(table[\"city\"].value_counts())"
   ]
  },
  {
   "cell_type": "code",
   "execution_count": 9,
   "metadata": {},
   "outputs": [],
   "source": [
    "col1 = \"hours\"\n",
    "col2 = \"language\"\n",
    "col3 = \"country\"\n",
    "col4 = \"job_name\"#crushes the kernel\n",
    "col4 = \"city\"\n",
    "cols = [col1, col2, col3, col4]"
   ]
  },
  {
   "cell_type": "code",
   "execution_count": 10,
   "metadata": {},
   "outputs": [],
   "source": [
    "t1 = encode_one_v1(table,col1)"
   ]
  },
  {
   "cell_type": "code",
   "execution_count": 11,
   "metadata": {},
   "outputs": [],
   "source": [
    "t2 = encode_one_v2(table,col1)"
   ]
  },
  {
   "cell_type": "code",
   "execution_count": 12,
   "metadata": {},
   "outputs": [
    {
     "data": {
      "text/plain": [
       "True"
      ]
     },
     "execution_count": 12,
     "metadata": {},
     "output_type": "execute_result"
    }
   ],
   "source": [
    "t1.columns == t2.columns"
   ]
  },
  {
   "cell_type": "code",
   "execution_count": 13,
   "metadata": {},
   "outputs": [
    {
     "data": {
      "text/plain": [
       "True"
      ]
     },
     "execution_count": 13,
     "metadata": {},
     "output_type": "execute_result"
    }
   ],
   "source": [
    "t1.shape == t2.shape"
   ]
  },
  {
   "cell_type": "code",
   "execution_count": 14,
   "metadata": {},
   "outputs": [
    {
     "name": "stdout",
     "output_type": "stream",
     "text": [
      "6.62 ms ± 477 μs per loop (mean ± std. dev. of 7 runs, 100 loops each)\n"
     ]
    }
   ],
   "source": [
    "timing_one_v1_col1 = %timeit -o encode_one_v1(table,col1)\n"
   ]
  },
  {
   "cell_type": "code",
   "execution_count": 15,
   "metadata": {},
   "outputs": [
    {
     "name": "stdout",
     "output_type": "stream",
     "text": [
      "6.45 ms ± 266 μs per loop (mean ± std. dev. of 7 runs, 100 loops each)\n"
     ]
    }
   ],
   "source": [
    "timing_one_v2_col1 = %timeit -o encode_one_v2(table,col1)\n"
   ]
  },
  {
   "cell_type": "code",
   "execution_count": 16,
   "metadata": {},
   "outputs": [
    {
     "name": "stdout",
     "output_type": "stream",
     "text": [
      "16.2 ms ± 598 μs per loop (mean ± std. dev. of 7 runs, 100 loops each)\n"
     ]
    }
   ],
   "source": [
    "timing_one_v1_col2 = %timeit -o encode_one_v1(table,col2)\n"
   ]
  },
  {
   "cell_type": "code",
   "execution_count": 17,
   "metadata": {},
   "outputs": [
    {
     "name": "stdout",
     "output_type": "stream",
     "text": [
      "16 ms ± 668 μs per loop (mean ± std. dev. of 7 runs, 100 loops each)\n"
     ]
    }
   ],
   "source": [
    "timing_one_v2_col2 = %timeit -o encode_one_v2(table,col2)\n"
   ]
  },
  {
   "cell_type": "code",
   "execution_count": 18,
   "metadata": {},
   "outputs": [
    {
     "name": "stdout",
     "output_type": "stream",
     "text": [
      "45.8 ms ± 2.84 ms per loop (mean ± std. dev. of 7 runs, 10 loops each)\n"
     ]
    }
   ],
   "source": [
    "timing_one_v1_col3 = %timeit -o encode_one_v1(table,col3)\n"
   ]
  },
  {
   "cell_type": "code",
   "execution_count": 19,
   "metadata": {},
   "outputs": [
    {
     "name": "stdout",
     "output_type": "stream",
     "text": [
      "46.5 ms ± 7.73 ms per loop (mean ± std. dev. of 7 runs, 10 loops each)\n"
     ]
    }
   ],
   "source": [
    "timing_one_v2_col3 = %timeit -o encode_one_v2(table,col3)"
   ]
  },
  {
   "cell_type": "code",
   "execution_count": 20,
   "metadata": {},
   "outputs": [
    {
     "name": "stdout",
     "output_type": "stream",
     "text": [
      "1.85 s ± 101 ms per loop (mean ± std. dev. of 7 runs, 1 loop each)\n"
     ]
    }
   ],
   "source": [
    "timing_one_v1_col4 = %timeit -o encode_one_v1(table,col4)"
   ]
  },
  {
   "cell_type": "code",
   "execution_count": 21,
   "metadata": {},
   "outputs": [
    {
     "name": "stdout",
     "output_type": "stream",
     "text": [
      "1.92 s ± 53.5 ms per loop (mean ± std. dev. of 7 runs, 1 loop each)\n"
     ]
    }
   ],
   "source": [
    "timing_one_v2_col4 = %timeit -o encode_one_v2(table,col4)"
   ]
  },
  {
   "cell_type": "code",
   "execution_count": 22,
   "metadata": {},
   "outputs": [
    {
     "name": "stdout",
     "output_type": "stream",
     "text": [
      "1.95 s ± 53.5 ms per loop (mean ± std. dev. of 7 runs, 1 loop each)\n"
     ]
    }
   ],
   "source": [
    "timing_more_v1 = %timeit -o encode_more_v1(table, cols)"
   ]
  },
  {
   "cell_type": "code",
   "execution_count": 23,
   "metadata": {},
   "outputs": [
    {
     "name": "stdout",
     "output_type": "stream",
     "text": [
      "2.01 s ± 88.6 ms per loop (mean ± std. dev. of 7 runs, 1 loop each)\n"
     ]
    }
   ],
   "source": [
    "timing_more_v2= %timeit -o encode_more_v2(table, cols)"
   ]
  },
  {
   "cell_type": "code",
   "execution_count": 27,
   "metadata": {},
   "outputs": [],
   "source": [
    "data = {\n",
    "    \"name\" : [\"Francesco\", \"StackOverflow\"],\n",
    "    \"15_val\" : [timing_one_v1_col1, timing_one_v2_col1],\n",
    "    \"40_val\" : [timing_one_v1_col2, timing_one_v2_col2],\n",
    "    \"174_val\" : [timing_one_v1_col3, timing_one_v2_col3],\n",
    "    \"7299_val\" : [timing_one_v1_col4, timing_one_v2_col4],\n",
    "    \"4col_7528val\" : [timing_more_v1, timing_more_v2],\n",
    "}"
   ]
  },
  {
   "cell_type": "code",
   "execution_count": 28,
   "metadata": {},
   "outputs": [],
   "source": [
    "import polars as pl"
   ]
  },
  {
   "cell_type": "code",
   "execution_count": 29,
   "metadata": {},
   "outputs": [
    {
     "data": {
      "text/html": [
       "<div><style>\n",
       ".dataframe > thead > tr,\n",
       ".dataframe > tbody > tr {\n",
       "  text-align: right;\n",
       "  white-space: pre-wrap;\n",
       "}\n",
       "</style>\n",
       "<small>shape: (2, 6)</small><table border=\"1\" class=\"dataframe\"><thead><tr><th>name</th><th>15_val</th><th>40_val</th><th>174_val</th><th>7299_val</th><th>4col_7528val</th></tr><tr><td>str</td><td>object</td><td>object</td><td>object</td><td>object</td><td>object</td></tr></thead><tbody><tr><td>&quot;Francesco&quot;</td><td>6.62 ms ± 477 μs per loop (mean ± std. dev. of 7 runs, 100 loops each)</td><td>16.2 ms ± 598 μs per loop (mean ± std. dev. of 7 runs, 100 loops each)</td><td>45.8 ms ± 2.84 ms per loop (mean ± std. dev. of 7 runs, 10 loops each)</td><td>1.85 s ± 101 ms per loop (mean ± std. dev. of 7 runs, 1 loop each)</td><td>1.95 s ± 53.5 ms per loop (mean ± std. dev. of 7 runs, 1 loop each)</td></tr><tr><td>&quot;StackOverflow&quot;</td><td>6.45 ms ± 266 μs per loop (mean ± std. dev. of 7 runs, 100 loops each)</td><td>16 ms ± 668 μs per loop (mean ± std. dev. of 7 runs, 100 loops each)</td><td>46.5 ms ± 7.73 ms per loop (mean ± std. dev. of 7 runs, 10 loops each)</td><td>1.92 s ± 53.5 ms per loop (mean ± std. dev. of 7 runs, 1 loop each)</td><td>2.01 s ± 88.6 ms per loop (mean ± std. dev. of 7 runs, 1 loop each)</td></tr></tbody></table></div>"
      ],
      "text/plain": [
       "shape: (2, 6)\n",
       "┌───────────────┬────────────────┬────────────────┬────────────────┬───────────────┬───────────────┐\n",
       "│ name          ┆ 15_val         ┆ 40_val         ┆ 174_val        ┆ 7299_val      ┆ 4col_7528val  │\n",
       "│ ---           ┆ ---            ┆ ---            ┆ ---            ┆ ---           ┆ ---           │\n",
       "│ str           ┆ object         ┆ object         ┆ object         ┆ object        ┆ object        │\n",
       "╞═══════════════╪════════════════╪════════════════╪════════════════╪═══════════════╪═══════════════╡\n",
       "│ Francesco     ┆ 6.62 ms ± 477  ┆ 16.2 ms ± 598  ┆ 45.8 ms ± 2.84 ┆ 1.85 s ± 101  ┆ 1.95 s ± 53.5 │\n",
       "│               ┆ μs per loop    ┆ μs per loop    ┆ ms per loop    ┆ ms per loop   ┆ ms per loop   │\n",
       "│               ┆ (mea…          ┆ (mea…          ┆ (me…           ┆ (mean…        ┆ (mea…         │\n",
       "│ StackOverflow ┆ 6.45 ms ± 266  ┆ 16 ms ± 668 μs ┆ 46.5 ms ± 7.73 ┆ 1.92 s ± 53.5 ┆ 2.01 s ± 88.6 │\n",
       "│               ┆ μs per loop    ┆ per loop (mean ┆ ms per loop    ┆ ms per loop   ┆ ms per loop   │\n",
       "│               ┆ (mea…          ┆ …              ┆ (me…           ┆ (mea…         ┆ (mea…         │\n",
       "└───────────────┴────────────────┴────────────────┴────────────────┴───────────────┴───────────────┘"
      ]
     },
     "execution_count": 29,
     "metadata": {},
     "output_type": "execute_result"
    }
   ],
   "source": [
    "pl.DataFrame(data)"
   ]
  },
  {
   "cell_type": "code",
   "execution_count": null,
   "metadata": {},
   "outputs": [],
   "source": []
  }
 ],
 "metadata": {
  "kernelspec": {
   "display_name": ".venv",
   "language": "python",
   "name": "python3"
  },
  "language_info": {
   "codemirror_mode": {
    "name": "ipython",
    "version": 3
   },
   "file_extension": ".py",
   "mimetype": "text/x-python",
   "name": "python",
   "nbconvert_exporter": "python",
   "pygments_lexer": "ipython3",
   "version": "3.10.13"
  }
 },
 "nbformat": 4,
 "nbformat_minor": 2
}
